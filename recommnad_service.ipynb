{
 "cells": [
  {
   "cell_type": "code",
   "execution_count": 261,
   "id": "80a68f4a",
   "metadata": {},
   "outputs": [],
   "source": [
    "import pandas as pd\n",
    "from sentence_transformers import SentenceTransformer\n",
    "from sklearn.cluster import KMeans\n",
    "\n",
    "# 정규화\n",
    "from sklearn.preprocessing import StandardScaler\n",
    "from sklearn.preprocessing import OneHotEncoder\n",
    "from sklearn.compose import ColumnTransformer\n",
    "\n",
    "df = pd.read_csv('Ecommerce_Consumer_Behavior_Analysis_Data.csv')\n",
    "# 나이, 성별, 구매 카테고리 \n",
    "df = df[['Age', 'Gender', 'Purchase_Category']].drop_duplicates()\n",
    "df = df.rename(columns={'Purchase_Category':'Category'})"
   ]
  },
  {
   "cell_type": "code",
   "execution_count": 262,
   "id": "6e8602b0",
   "metadata": {},
   "outputs": [
    {
     "data": {
      "text/plain": [
       "0          Gardening & Outdoors\n",
       "1              Food & Beverages\n",
       "2               Office Supplies\n",
       "3               Home Appliances\n",
       "4                     Furniture\n",
       "7                         Books\n",
       "9             Sports & Outdoors\n",
       "10           Mobile Accessories\n",
       "12                 Luxury Goods\n",
       "13                  Animal Feed\n",
       "14                  Health Care\n",
       "15                       Hotels\n",
       "18                    Packages)\n",
       "19                  Electronics\n",
       "20              Software & Apps\n",
       "21                Baby Products\n",
       "22                 Toys & Games\n",
       "26                Arts & Crafts\n",
       "29           Health Supplements\n",
       "36                    Groceries\n",
       "48                     Clothing\n",
       "50       Beauty & Personal Care\n",
       "52    Travel & Leisure (Flights\n",
       "77        Jewelry & Accessories\n",
       "Name: Category, dtype: object"
      ]
     },
     "execution_count": 262,
     "metadata": {},
     "output_type": "execute_result"
    }
   ],
   "source": [
    "# 카테고리 확인\n",
    "df['Category'].drop_duplicates()"
   ]
  },
  {
   "cell_type": "code",
   "execution_count": 263,
   "id": "7014a4ee",
   "metadata": {},
   "outputs": [],
   "source": [
    "# Category를 묶을 bert 알고리즘\n",
    "bert_model = SentenceTransformer('all-MiniLM-L6-v2') \n",
    "\n",
    "categories = df['Category'].tolist()\n",
    "embeddings = bert_model.encode(categories)\n",
    "\n",
    "# KMeans로 군집화\n",
    "k = 5\n",
    "kmeans = KMeans(n_clusters=k, random_state=42)\n",
    "labels = kmeans.fit_predict(embeddings)\n",
    "\n",
    "df['Cluster'] = labels"
   ]
  },
  {
   "cell_type": "code",
   "execution_count": 264,
   "id": "1d09640f",
   "metadata": {},
   "outputs": [],
   "source": [
    "cluster_name_mapping = {\n",
    "                            0: \"Food & Daily Life\",\n",
    "                            1: \"Home / Lifestyle / Luxury\",\n",
    "                            2: \"Outdoor & Leisure\",\n",
    "                            3: \"Health & Beauty\",\n",
    "                            4: \"Electronics & Appliances\"\n",
    "                        }\n",
    "\n",
    "df['Category_Grouped'] = df['Cluster'].map(cluster_name_mapping)\n",
    "\n",
    "df = df[['Age', 'Gender', 'Category_Grouped']]"
   ]
  },
  {
   "cell_type": "code",
   "execution_count": 266,
   "metadata": {},
   "outputs": [],
   "source": [
    "# 숫자 정규화\n",
    "# 나이 데이터\n",
    "scaler = StandardScaler()\n",
    "df[['Age']] = scaler.fit_transform(df[['Age']])"
   ]
  },
  {
   "cell_type": "code",
   "execution_count": 267,
   "id": "a3a9e515",
   "metadata": {},
   "outputs": [],
   "source": [
    "# 원핫인코딩\n",
    "ct = ColumnTransformer( [('encoder', OneHotEncoder(), [1, 2])], remainder='passthrough')\n",
    "X = ct.fit_transform(df)\n",
    "X = X.toarray()\n"
   ]
  },
  {
   "cell_type": "code",
   "execution_count": 247,
   "id": "6adeb2c7",
   "metadata": {},
   "outputs": [
    {
     "data": {
      "text/plain": [
       "GaussianMixture(n_components=3, random_state=42)"
      ]
     },
     "execution_count": 247,
     "metadata": {},
     "output_type": "execute_result"
    }
   ],
   "source": [
    "from sklearn.mixture import GaussianMixture\n",
    "\n",
    "gmm = GaussianMixture(n_components=3, random_state=42)\n",
    "gmm.fit(X)"
   ]
  },
  {
   "cell_type": "code",
   "execution_count": null,
   "id": "2f80d34b",
   "metadata": {},
   "outputs": [
    {
     "data": {
      "text/html": [
       "<div>\n",
       "<style scoped>\n",
       "    .dataframe tbody tr th:only-of-type {\n",
       "        vertical-align: middle;\n",
       "    }\n",
       "\n",
       "    .dataframe tbody tr th {\n",
       "        vertical-align: top;\n",
       "    }\n",
       "\n",
       "    .dataframe thead th {\n",
       "        text-align: right;\n",
       "    }\n",
       "</style>\n",
       "<table border=\"1\" class=\"dataframe\">\n",
       "  <thead>\n",
       "    <tr style=\"text-align: right;\">\n",
       "      <th></th>\n",
       "      <th>Age</th>\n",
       "      <th>Gender</th>\n",
       "      <th>Category_Grouped</th>\n",
       "    </tr>\n",
       "  </thead>\n",
       "  <tbody>\n",
       "    <tr>\n",
       "      <th>0</th>\n",
       "      <td>-1.334426</td>\n",
       "      <td>Female</td>\n",
       "      <td>Health &amp; Beauty</td>\n",
       "    </tr>\n",
       "    <tr>\n",
       "      <th>1</th>\n",
       "      <td>1.580206</td>\n",
       "      <td>Male</td>\n",
       "      <td>Outdoor &amp; Leisure</td>\n",
       "    </tr>\n",
       "    <tr>\n",
       "      <th>2</th>\n",
       "      <td>-1.118527</td>\n",
       "      <td>Female</td>\n",
       "      <td>Food &amp; Daily Life</td>\n",
       "    </tr>\n",
       "    <tr>\n",
       "      <th>3</th>\n",
       "      <td>-0.578781</td>\n",
       "      <td>Female</td>\n",
       "      <td>Food &amp; Daily Life</td>\n",
       "    </tr>\n",
       "    <tr>\n",
       "      <th>4</th>\n",
       "      <td>-0.146983</td>\n",
       "      <td>Female</td>\n",
       "      <td>Outdoor &amp; Leisure</td>\n",
       "    </tr>\n",
       "    <tr>\n",
       "      <th>...</th>\n",
       "      <td>...</td>\n",
       "      <td>...</td>\n",
       "      <td>...</td>\n",
       "    </tr>\n",
       "    <tr>\n",
       "      <th>991</th>\n",
       "      <td>0.608662</td>\n",
       "      <td>Bigender</td>\n",
       "      <td>Outdoor &amp; Leisure</td>\n",
       "    </tr>\n",
       "    <tr>\n",
       "      <th>993</th>\n",
       "      <td>-1.010578</td>\n",
       "      <td>Female</td>\n",
       "      <td>Outdoor &amp; Leisure</td>\n",
       "    </tr>\n",
       "    <tr>\n",
       "      <th>996</th>\n",
       "      <td>1.688155</td>\n",
       "      <td>Female</td>\n",
       "      <td>Health &amp; Beauty</td>\n",
       "    </tr>\n",
       "    <tr>\n",
       "      <th>998</th>\n",
       "      <td>-1.442375</td>\n",
       "      <td>Female</td>\n",
       "      <td>Outdoor &amp; Leisure</td>\n",
       "    </tr>\n",
       "    <tr>\n",
       "      <th>999</th>\n",
       "      <td>-1.442375</td>\n",
       "      <td>Female</td>\n",
       "      <td>Home / Lifestyle / Luxury</td>\n",
       "    </tr>\n",
       "  </tbody>\n",
       "</table>\n",
       "<p>802 rows × 3 columns</p>\n",
       "</div>"
      ],
      "text/plain": [
       "          Age    Gender           Category_Grouped\n",
       "0   -1.334426    Female            Health & Beauty\n",
       "1    1.580206      Male          Outdoor & Leisure\n",
       "2   -1.118527    Female          Food & Daily Life\n",
       "3   -0.578781    Female          Food & Daily Life\n",
       "4   -0.146983    Female          Outdoor & Leisure\n",
       "..        ...       ...                        ...\n",
       "991  0.608662  Bigender          Outdoor & Leisure\n",
       "993 -1.010578    Female          Outdoor & Leisure\n",
       "996  1.688155    Female            Health & Beauty\n",
       "998 -1.442375    Female          Outdoor & Leisure\n",
       "999 -1.442375    Female  Home / Lifestyle / Luxury\n",
       "\n",
       "[802 rows x 3 columns]"
      ]
     },
     "execution_count": 249,
     "metadata": {},
     "output_type": "execute_result"
    }
   ],
   "source": [
    "df"
   ]
  },
  {
   "cell_type": "code",
   "execution_count": 273,
   "id": "852b865c",
   "metadata": {},
   "outputs": [
    {
     "data": {
      "text/plain": [
       "['gmm.pkl']"
      ]
     },
     "execution_count": 273,
     "metadata": {},
     "output_type": "execute_result"
    }
   ],
   "source": [
    "import joblib\n",
    "joblib.dump(scaler, \"age_scaler.pkl\")\n",
    "joblib.dump(ct, \"ct_encoder.pkl\")\n",
    "joblib.dump(gmm, \"gmm.pkl\")\n"
   ]
  },
  {
   "cell_type": "code",
   "execution_count": null,
   "id": "7058f1bf",
   "metadata": {},
   "outputs": [],
   "source": [
    "age_scaler = joblib.load(\"age_scaler.pkl\")\n",
    "ct_encoder = joblib.load(\"ct_encoder.pkl\")\n",
    "gmm_loaded = joblib.load(\"gmm.pkl\")"
   ]
  },
  {
   "cell_type": "code",
   "execution_count": 279,
   "id": "46af7c4b",
   "metadata": {},
   "outputs": [
    {
     "name": "stdout",
     "output_type": "stream",
     "text": [
      "[1]\n"
     ]
    }
   ],
   "source": [
    "new_user = pd.DataFrame({'Age':[25], 'Gender':['Female'], 'Category_Grouped':['Health & Beauty']})\n",
    "new_user[['Age']] = age_scaler.transform(new_user[['Age']])\n",
    "X_new = ct_encoder.transform(new_user).toarray()\n",
    "cluster_label = gmm_loaded.predict(X_new)\n",
    "print(cluster_label)"
   ]
  }
 ],
 "metadata": {
  "kernelspec": {
   "display_name": "Python 3",
   "language": "python",
   "name": "python3"
  },
  "language_info": {
   "codemirror_mode": {
    "name": "ipython",
    "version": 3
   },
   "file_extension": ".py",
   "mimetype": "text/x-python",
   "name": "python",
   "nbconvert_exporter": "python",
   "pygments_lexer": "ipython3",
   "version": "3.10.0"
  }
 },
 "nbformat": 4,
 "nbformat_minor": 5
}
